{
 "cells": [
  {
   "cell_type": "markdown",
   "metadata": {},
   "source": [
    "# Assignment 3 - Building a Custom Visualization\n",
    "\n",
    "---\n",
    "\n",
    "In this assignment you must choose one of the options presented below and submit a visual as well as your source code for peer grading. The details of how you solve the assignment are up to you, although your assignment must use matplotlib so that your peers can evaluate your work. The options differ in challenge level, but there are no grades associated with the challenge level you chose. However, your peers will be asked to ensure you at least met a minimum quality for a given technique in order to pass. Implement the technique fully (or exceed it!) and you should be able to earn full grades for the assignment.\n",
    "\n",
    "\n",
    "&nbsp;&nbsp;&nbsp;&nbsp;&nbsp;&nbsp;Ferreira, N., Fisher, D., & Konig, A. C. (2014, April). [Sample-oriented task-driven visualizations: allowing users to make better, more confident decisions.](https://www.microsoft.com/en-us/research/wp-content/uploads/2016/02/Ferreira_Fisher_Sample_Oriented_Tasks.pdf) \n",
    "&nbsp;&nbsp;&nbsp;&nbsp;&nbsp;&nbsp;In Proceedings of the SIGCHI Conference on Human Factors in Computing Systems (pp. 571-580). ACM. ([video](https://www.youtube.com/watch?v=BI7GAs-va-Q))\n",
    "\n",
    "\n",
    "In this [paper](https://www.microsoft.com/en-us/research/wp-content/uploads/2016/02/Ferreira_Fisher_Sample_Oriented_Tasks.pdf) the authors describe the challenges users face when trying to make judgements about probabilistic data generated through samples. As an example, they look at a bar chart of four years of data (replicated below in Figure 1). Each year has a y-axis value, which is derived from a sample of a larger dataset. For instance, the first value might be the number votes in a given district or riding for 1992, with the average being around 33,000. On top of this is plotted the 95% confidence interval for the mean (see the boxplot lectures for more information, and the yerr parameter of barcharts).\n",
    "\n",
    "<br>\n",
    "<img src=\"readonly/Assignment3Fig1.png\" alt=\"Figure 1\" style=\"width: 400px;\"/>\n",
    "<h4 style=\"text-align: center;\" markdown=\"1\">  &nbsp;&nbsp;&nbsp;&nbsp;&nbsp;&nbsp;&nbsp;&nbsp;Figure 1 from (Ferreira et al, 2014).</h4>\n",
    "\n",
    "<br>\n",
    "\n",
    "A challenge that users face is that, for a given y-axis value (e.g. 42,000), it is difficult to know which x-axis values are most likely to be representative, because the confidence levels overlap and their distributions are different (the lengths of the confidence interval bars are unequal). One of the solutions the authors propose for this problem (Figure 2c) is to allow users to indicate the y-axis value of interest (e.g. 42,000) and then draw a horizontal line and color bars based on this value. So bars might be colored red if they are definitely above this value (given the confidence interval), blue if they are definitely below this value, or white if they contain this value.\n",
    "\n",
    "\n",
    "<br>\n",
    "<img src=\"readonly/Assignment3Fig2c.png\" alt=\"Figure 1\" style=\"width: 400px;\"/>\n",
    "<h4 style=\"text-align: center;\" markdown=\"1\">  Figure 2c from (Ferreira et al. 2014). Note that the colorbar legend at the bottom as well as the arrows are not required in the assignment descriptions below.</h4>\n",
    "\n",
    "<br>\n",
    "<br>\n",
    "\n",
    "**Easiest option:** Implement the bar coloring as described above - a color scale with only three colors, (e.g. blue, white, and red). Assume the user provides the y axis value of interest as a parameter or variable.\n",
    "\n",
    "\n",
    "**Harder option:** Implement the bar coloring as described in the paper, where the color of the bar is actually based on the amount of data covered (e.g. a gradient ranging from dark blue for the distribution being certainly below this y-axis, to white if the value is certainly contained, to dark red if the value is certainly not contained as the distribution is above the axis).\n",
    "\n",
    "**Even Harder option:** Add interactivity to the above, which allows the user to click on the y axis to set the value of interest. The bar colors should change with respect to what value the user has selected.\n",
    "\n",
    "**Hardest option:** Allow the user to interactively set a range of y values they are interested in, and recolor based on this (e.g. a y-axis band, see the paper for more details).\n",
    "\n",
    "---\n",
    "\n",
    "*Note: The data given for this assignment is not the same as the data used in the article and as a result the visualizations may look a little different.*"
   ]
  },
  {
   "cell_type": "code",
   "execution_count": 25,
   "metadata": {
    "collapsed": false
   },
   "outputs": [
    {
     "data": {
      "text/html": [
       "<div>\n",
       "<table border=\"1\" class=\"dataframe\">\n",
       "  <thead>\n",
       "    <tr style=\"text-align: right;\">\n",
       "      <th></th>\n",
       "      <th>0</th>\n",
       "      <th>1</th>\n",
       "      <th>2</th>\n",
       "      <th>3</th>\n",
       "      <th>4</th>\n",
       "      <th>5</th>\n",
       "      <th>6</th>\n",
       "      <th>7</th>\n",
       "      <th>8</th>\n",
       "      <th>9</th>\n",
       "      <th>...</th>\n",
       "      <th>3640</th>\n",
       "      <th>3641</th>\n",
       "      <th>3642</th>\n",
       "      <th>3643</th>\n",
       "      <th>3644</th>\n",
       "      <th>3645</th>\n",
       "      <th>3646</th>\n",
       "      <th>3647</th>\n",
       "      <th>3648</th>\n",
       "      <th>3649</th>\n",
       "    </tr>\n",
       "  </thead>\n",
       "  <tbody>\n",
       "    <tr>\n",
       "      <th>1992</th>\n",
       "      <td>-8941.531897</td>\n",
       "      <td>127788.667612</td>\n",
       "      <td>-71887.743011</td>\n",
       "      <td>-79146.060869</td>\n",
       "      <td>425156.114501</td>\n",
       "      <td>310681.166595</td>\n",
       "      <td>50581.575349</td>\n",
       "      <td>88349.230566</td>\n",
       "      <td>185804.513522</td>\n",
       "      <td>281286.947277</td>\n",
       "      <td>...</td>\n",
       "      <td>171938.760289</td>\n",
       "      <td>150650.759924</td>\n",
       "      <td>203663.976475</td>\n",
       "      <td>-377877.158072</td>\n",
       "      <td>-197214.093861</td>\n",
       "      <td>24185.008589</td>\n",
       "      <td>-56826.729535</td>\n",
       "      <td>-67319.766489</td>\n",
       "      <td>113377.299342</td>\n",
       "      <td>-4494.878538</td>\n",
       "    </tr>\n",
       "    <tr>\n",
       "      <th>1993</th>\n",
       "      <td>-51896.094813</td>\n",
       "      <td>198350.518755</td>\n",
       "      <td>-123518.252821</td>\n",
       "      <td>-129916.759685</td>\n",
       "      <td>216119.147314</td>\n",
       "      <td>49845.883728</td>\n",
       "      <td>149135.648505</td>\n",
       "      <td>62807.672113</td>\n",
       "      <td>23365.577348</td>\n",
       "      <td>-109686.264981</td>\n",
       "      <td>...</td>\n",
       "      <td>-44566.520071</td>\n",
       "      <td>101032.122475</td>\n",
       "      <td>117648.199945</td>\n",
       "      <td>160475.622607</td>\n",
       "      <td>-13759.888342</td>\n",
       "      <td>-37333.493572</td>\n",
       "      <td>103019.841174</td>\n",
       "      <td>179746.127403</td>\n",
       "      <td>13455.493990</td>\n",
       "      <td>34442.898855</td>\n",
       "    </tr>\n",
       "    <tr>\n",
       "      <th>1994</th>\n",
       "      <td>152336.932066</td>\n",
       "      <td>192947.128056</td>\n",
       "      <td>389950.263156</td>\n",
       "      <td>-93006.152024</td>\n",
       "      <td>100818.575896</td>\n",
       "      <td>5529.230706</td>\n",
       "      <td>-32989.370488</td>\n",
       "      <td>223942.967178</td>\n",
       "      <td>-66721.580898</td>\n",
       "      <td>47826.269111</td>\n",
       "      <td>...</td>\n",
       "      <td>165085.806360</td>\n",
       "      <td>74735.174090</td>\n",
       "      <td>107329.726875</td>\n",
       "      <td>199250.734156</td>\n",
       "      <td>-36792.202754</td>\n",
       "      <td>-71861.846997</td>\n",
       "      <td>26375.113219</td>\n",
       "      <td>-29328.078384</td>\n",
       "      <td>65858.761714</td>\n",
       "      <td>-91542.001049</td>\n",
       "    </tr>\n",
       "    <tr>\n",
       "      <th>1995</th>\n",
       "      <td>-69708.439062</td>\n",
       "      <td>-13289.977022</td>\n",
       "      <td>-30178.390991</td>\n",
       "      <td>55052.181256</td>\n",
       "      <td>152883.621657</td>\n",
       "      <td>12930.835194</td>\n",
       "      <td>63700.461932</td>\n",
       "      <td>64148.489835</td>\n",
       "      <td>-29316.268556</td>\n",
       "      <td>59645.677367</td>\n",
       "      <td>...</td>\n",
       "      <td>-13901.388118</td>\n",
       "      <td>50173.686673</td>\n",
       "      <td>53965.990717</td>\n",
       "      <td>4128.990173</td>\n",
       "      <td>72202.595138</td>\n",
       "      <td>39937.199964</td>\n",
       "      <td>139472.114293</td>\n",
       "      <td>59386.186379</td>\n",
       "      <td>73362.229590</td>\n",
       "      <td>28705.082908</td>\n",
       "    </tr>\n",
       "  </tbody>\n",
       "</table>\n",
       "<p>4 rows × 3650 columns</p>\n",
       "</div>"
      ],
      "text/plain": [
       "               0              1              2              3     \\\n",
       "1992   -8941.531897  127788.667612  -71887.743011  -79146.060869   \n",
       "1993  -51896.094813  198350.518755 -123518.252821 -129916.759685   \n",
       "1994  152336.932066  192947.128056  389950.263156  -93006.152024   \n",
       "1995  -69708.439062  -13289.977022  -30178.390991   55052.181256   \n",
       "\n",
       "               4              5              6              7     \\\n",
       "1992  425156.114501  310681.166595   50581.575349   88349.230566   \n",
       "1993  216119.147314   49845.883728  149135.648505   62807.672113   \n",
       "1994  100818.575896    5529.230706  -32989.370488  223942.967178   \n",
       "1995  152883.621657   12930.835194   63700.461932   64148.489835   \n",
       "\n",
       "               8              9         ...                3640  \\\n",
       "1992  185804.513522  281286.947277      ...       171938.760289   \n",
       "1993   23365.577348 -109686.264981      ...       -44566.520071   \n",
       "1994  -66721.580898   47826.269111      ...       165085.806360   \n",
       "1995  -29316.268556   59645.677367      ...       -13901.388118   \n",
       "\n",
       "               3641           3642           3643           3644  \\\n",
       "1992  150650.759924  203663.976475 -377877.158072 -197214.093861   \n",
       "1993  101032.122475  117648.199945  160475.622607  -13759.888342   \n",
       "1994   74735.174090  107329.726875  199250.734156  -36792.202754   \n",
       "1995   50173.686673   53965.990717    4128.990173   72202.595138   \n",
       "\n",
       "              3645           3646           3647           3648          3649  \n",
       "1992  24185.008589  -56826.729535  -67319.766489  113377.299342  -4494.878538  \n",
       "1993 -37333.493572  103019.841174  179746.127403   13455.493990  34442.898855  \n",
       "1994 -71861.846997   26375.113219  -29328.078384   65858.761714 -91542.001049  \n",
       "1995  39937.199964  139472.114293   59386.186379   73362.229590  28705.082908  \n",
       "\n",
       "[4 rows x 3650 columns]"
      ]
     },
     "execution_count": 25,
     "metadata": {},
     "output_type": "execute_result"
    }
   ],
   "source": [
    "# Use the following data for this assignment:\n",
    "\n",
    "import pandas as pd\n",
    "import numpy as np\n",
    "import math\n",
    "import matplotlib.cm as cm \n",
    "import matplotlib.colors as color\n",
    "\n",
    "np.random.seed(12345)\n",
    "\n",
    "df = pd.DataFrame([np.random.normal(32000,200000,3650), \n",
    "                   np.random.normal(43000,100000,3650), \n",
    "                   np.random.normal(43500,140000,3650), \n",
    "                   np.random.normal(48000,70000,3650)], \n",
    "                  index=[1992,1993,1994,1995])\n",
    "df"
   ]
  },
  {
   "cell_type": "code",
   "execution_count": 26,
   "metadata": {
    "collapsed": false
   },
   "outputs": [],
   "source": [
    "df = df.transpose()\n"
   ]
  },
  {
   "cell_type": "code",
   "execution_count": 27,
   "metadata": {
    "collapsed": false
   },
   "outputs": [
    {
     "data": {
      "text/plain": [
       "['blue', 'white', 'blue', 'red']"
      ]
     },
     "execution_count": 27,
     "metadata": {},
     "output_type": "execute_result"
    }
   ],
   "source": [
    "dd = df.describe()\n",
    "\n",
    "df_mean = dd.loc['mean']\n",
    "df_std = dd.loc['std']\n",
    "l = df.shape[0]\n",
    "std_error = df_std / math.sqrt(l)\n",
    "upper_conf = df_mean + 1.9602 * std_error\n",
    "down_conf  = df_mean - 1.9602 * std_error\n",
    "interest_val = 44500\n",
    "bar_color = ['white']*4\n",
    "for i in range(0,4):\n",
    "    if down_conf.iloc[i] > interest_val:\n",
    "        bar_color[i] = 'red'\n",
    "    elif upper_conf.iloc[i] < interest_val:\n",
    "        bar_color[i] = 'blue'\n",
    "\n",
    "bar_color"
   ]
  },
  {
   "cell_type": "code",
   "execution_count": 29,
   "metadata": {
    "collapsed": false
   },
   "outputs": [
    {
     "data": {
      "text/plain": [
       "<matplotlib.text.Text at 0x7f02b7346c88>"
      ]
     },
     "execution_count": 29,
     "metadata": {},
     "output_type": "execute_result"
    },
    {
     "data": {
      "image/png": "[encoded data removed]",
      "text/plain": [
       "<matplotlib.figure.Figure at 0x7f02b73a4780>"
      ]
     },
     "metadata": {},
     "output_type": "display_data"
    }
   ],
   "source": [
    "fig, ax = plt.subplots()\n",
    "ax.bar(np.arange(4), df_mean, 1, color = bar_color, yerr = 1.9602*std_error, edgecolor='lightblue', alpha = 0.5)\n",
    "ax.axhline(y = interest_val, color = 'gray', label = 'interest value')\n",
    "ax.set_xticks([0,1,2,3])\n",
    "ax.set_xticklabels(['1992','1993','1994','1995'])\n",
    "cmap = cm.get_cmap('RdYlBu_r')\n",
    "cmappick = cm.ScalarMappable(cmap=cmap, norm=color.Normalize(vmin=0, vmax=1.0))\n",
    "cmappick.set_array([])\n",
    "cbar = plt.colorbar(cmappick, alpha = 0.5)\n",
    "ax.set_title(\"Bars compared to a fixed value of {}\".format(interest_val))"
   ]
  },
  {
   "cell_type": "code",
   "execution_count": null,
   "metadata": {
    "collapsed": true
   },
   "outputs": [],
   "source": [
    "data:image/png;base64,iVBORw0KGgoAAAANSUhEUgAAAXMAAAEICAYAAACtXxSQAAAABHNCSVQICAgIfAhkiAAAAAlwSFlz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%0ATkSuQmCC"
   ]
  }
 ],
 "metadata": {
  "kernelspec": {
   "display_name": "Python 3",
   "language": "python",
   "name": "python3"
  },
  "language_info": {
   "codemirror_mode": {
    "name": "ipython",
    "version": 3
   },
   "file_extension": ".py",
   "mimetype": "text/x-python",
   "name": "python",
   "nbconvert_exporter": "python",
   "pygments_lexer": "ipython3",
   "version": "3.6.2"
  }
 },
 "nbformat": 4,
 "nbformat_minor": 2
}
